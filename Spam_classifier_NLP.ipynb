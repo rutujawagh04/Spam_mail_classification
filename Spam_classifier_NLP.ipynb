{
  "cells": [
    {
      "cell_type": "markdown",
      "id": "6d2c67eb",
      "metadata": {
        "id": "6d2c67eb"
      },
      "source": [
        "## Importing Libraries"
      ]
    },
    {
      "cell_type": "code",
      "execution_count": 1,
      "id": "d0817ac6",
      "metadata": {
        "id": "d0817ac6"
      },
      "outputs": [],
      "source": [
        "import pandas as pd\n",
        "import numpy as np\n",
        "import seaborn as sns\n",
        "import nltk\n",
        "\n",
        "\n",
        "\n",
        "#nltk.download()\n",
        "import re"
      ]
    },
    {
      "cell_type": "code",
      "execution_count": 2,
      "id": "92260218",
      "metadata": {
        "id": "92260218"
      },
      "outputs": [],
      "source": [
        "from nltk.stem import PorterStemmer\n",
        "from nltk.corpus import stopwords\n",
        "\n",
        "from nltk.stem import WordNetLemmatizer\n",
        "from nltk import pos_tag, word_tokenize\n",
        "#from nltk.stem import PorterStemmer, WordNetLemmatizer"
      ]
    },
    {
      "cell_type": "code",
      "execution_count": 3,
      "id": "40650742",
      "metadata": {
        "id": "40650742"
      },
      "outputs": [],
      "source": [
        "body= '''Did you know that a clean and tidy bedroom is the secret to peace?\n",
        "Actually, no it’s not. But it definitely helps and contributes to a happy and healthy lifestyle!\n",
        "If everyday you tiptoe through your mess, stumble over piles of dirty/clean clothes on the floor,\n",
        "find crumbs in and around your bed and spend more than 45 minutes going through your closet just\n",
        "to find what you’re actually looking for, then you might need to tidy up just a lil’ bit.\n",
        "Take into consideration that the bedroom is the place where you start and end each day and\n",
        "you’ll see how important it is to keep it neat and organized.\n",
        "Having a bedroom in such a dirty state can have a variety of negative effects on your life.\n",
        "Our mind cannot live independently from our environment; thus, keeping the bedroom tidy, clean,\n",
        "and organized has an impact on our mood when we get up, on the way we start the day, and on our\n",
        "ability to face issues head-on! A clean room with a made bed and pile-free floors will not only bring happiness\n",
        "and organization to your life, it can totally change how your day goes. And that’s the first reason\n",
        "why cleaning your room is important: A clean bedroom just makes you...happier! According to a recent study\n",
        "published in the Personality and Social Psychology Bulletin, people who described their homes as cluttered,\n",
        "messy, and full of unfinished projects were also more depressed, tired and stressed out than those\n",
        "who described their homes as restorative and clean. In addition, a clean room just helps you sleep better!\n",
        "And getting enough rest is crucial to your happiness. :)A messy room can be a representation of a disorganized mental state.\n",
        "When one decides to be tidy and organized, it builds into your life!\n",
        "As Marie Kondo states in The Life-Changing Magic of Tidying Up, “From the\n",
        "moment you start tidying, you will be compelled to reset your life. As a result,\n",
        "your life will start to change.” No, it does not take too much time or too much work.\n",
        "Making your bed can take upwards of…2 minutes! And that’s it! That two minutes of “work” in\n",
        "the morning will help to create feelings of positivity and accomplishment! Also, there’s nothing\n",
        "quite as relaxing as coming into your room at night and resting in a crisp, clean, and beautiful bed -\n",
        "it can even help you sleep better at night'''\n"
      ]
    },
    {
      "cell_type": "code",
      "execution_count": 4,
      "id": "b66cc742",
      "metadata": {
        "colab": {
          "base_uri": "https://localhost:8080/",
          "height": 123
        },
        "id": "b66cc742",
        "outputId": "389afcbc-a59f-4f17-abf3-93bc692ba7ff"
      },
      "outputs": [
        {
          "output_type": "execute_result",
          "data": {
            "text/plain": [
              "'Did you know that a clean and tidy bedroom is the secret to peace? \\nActually, no it’s not. But it definitely helps and contributes to a happy and healthy lifestyle!\\nIf everyday you tiptoe through your mess, stumble over piles of dirty/clean clothes on the floor, \\nfind crumbs in and around your bed and spend more than 45 minutes going through your closet just\\nto find what you’re actually looking for, then you might need to tidy up just a lil’ bit. \\nTake into consideration that the bedroom is the place where you start and end each day and \\nyou’ll see how important it is to keep it neat and organized. \\nHaving a bedroom in such a dirty state can have a variety of negative effects on your life. \\nOur mind cannot live independently from our environment; thus, keeping the bedroom tidy, clean, \\nand organized has an impact on our mood when we get up, on the way we start the day, and on our \\nability to face issues head-on! A clean room with a made bed and pile-free floors will not only bring happiness \\nand organization to your life, it can totally change how your day goes. And that’s the first reason \\nwhy cleaning your room is important: A clean bedroom just makes you...happier! According to a recent study\\npublished in the Personality and Social Psychology Bulletin, people who described their homes as cluttered, \\nmessy, and full of unfinished projects were also more depressed, tired and stressed out than those \\nwho described their homes as restorative and clean. In addition, a clean room just helps you sleep better! \\nAnd getting enough rest is crucial to your happiness. :)A messy room can be a representation of a disorganized mental state. \\nWhen one decides to be tidy and organized, it builds into your life! \\nAs Marie Kondo states in The Life-Changing Magic of Tidying Up, “From the \\nmoment you start tidying, you will be compelled to reset your life. As a result, \\nyour life will start to change.” No, it does not take too much time or too much work. \\nMaking your bed can take upwards of…2 minutes! And that’s it! That two minutes of “work” in \\nthe morning will help to create feelings of positivity and accomplishment! Also, there’s nothing \\nquite as relaxing as coming into your room at night and resting in a crisp, clean, and beautiful bed - \\nit can even help you sleep better at night'"
            ],
            "application/vnd.google.colaboratory.intrinsic+json": {
              "type": "string"
            }
          },
          "metadata": {},
          "execution_count": 4
        }
      ],
      "source": [
        "body"
      ]
    },
    {
      "cell_type": "markdown",
      "id": "0add222f",
      "metadata": {
        "id": "0add222f"
      },
      "source": [
        "## Tokenization"
      ]
    },
    {
      "cell_type": "markdown",
      "id": "4ecb7b88",
      "metadata": {
        "id": "4ecb7b88"
      },
      "source": [
        "### Tokenizing the body of text into sentences"
      ]
    },
    {
      "cell_type": "code",
      "source": [
        "import nltk\n",
        "\n",
        "# Download the 'punkt' tokenizer models\n",
        "nltk.download('punkt')\n",
        "\n",
        "# Your original code\n",
        "sentences = nltk.sent_tokenize(body)\n",
        "print(sentences)\n"
      ],
      "metadata": {
        "colab": {
          "base_uri": "https://localhost:8080/"
        },
        "id": "rul_erpD42wE",
        "outputId": "6570d4a7-0e2c-4816-9f96-b62da78c0cfb"
      },
      "id": "rul_erpD42wE",
      "execution_count": 6,
      "outputs": [
        {
          "output_type": "stream",
          "name": "stderr",
          "text": [
            "[nltk_data] Downloading package punkt to /root/nltk_data...\n",
            "[nltk_data]   Unzipping tokenizers/punkt.zip.\n"
          ]
        },
        {
          "output_type": "stream",
          "name": "stdout",
          "text": [
            "['Did you know that a clean and tidy bedroom is the secret to peace?', 'Actually, no it’s not.', 'But it definitely helps and contributes to a happy and healthy lifestyle!', 'If everyday you tiptoe through your mess, stumble over piles of dirty/clean clothes on the floor, \\nfind crumbs in and around your bed and spend more than 45 minutes going through your closet just\\nto find what you’re actually looking for, then you might need to tidy up just a lil’ bit.', 'Take into consideration that the bedroom is the place where you start and end each day and \\nyou’ll see how important it is to keep it neat and organized.', 'Having a bedroom in such a dirty state can have a variety of negative effects on your life.', 'Our mind cannot live independently from our environment; thus, keeping the bedroom tidy, clean, \\nand organized has an impact on our mood when we get up, on the way we start the day, and on our \\nability to face issues head-on!', 'A clean room with a made bed and pile-free floors will not only bring happiness \\nand organization to your life, it can totally change how your day goes.', 'And that’s the first reason \\nwhy cleaning your room is important: A clean bedroom just makes you...happier!', 'According to a recent study\\npublished in the Personality and Social Psychology Bulletin, people who described their homes as cluttered, \\nmessy, and full of unfinished projects were also more depressed, tired and stressed out than those \\nwho described their homes as restorative and clean.', 'In addition, a clean room just helps you sleep better!', 'And getting enough rest is crucial to your happiness.', ':)A messy room can be a representation of a disorganized mental state.', 'When one decides to be tidy and organized, it builds into your life!', 'As Marie Kondo states in The Life-Changing Magic of Tidying Up, “From the \\nmoment you start tidying, you will be compelled to reset your life.', 'As a result, \\nyour life will start to change.” No, it does not take too much time or too much work.', 'Making your bed can take upwards of…2 minutes!', 'And that’s it!', 'That two minutes of “work” in \\nthe morning will help to create feelings of positivity and accomplishment!', 'Also, there’s nothing \\nquite as relaxing as coming into your room at night and resting in a crisp, clean, and beautiful bed - \\nit can even help you sleep better at night']\n"
          ]
        }
      ]
    },
    {
      "cell_type": "code",
      "execution_count": 6,
      "id": "df945cc7",
      "metadata": {
        "id": "df945cc7"
      },
      "outputs": [],
      "source": []
    },
    {
      "cell_type": "markdown",
      "id": "368cf68f",
      "metadata": {
        "id": "368cf68f"
      },
      "source": [
        "### Tokenizing the sentences into list of words"
      ]
    },
    {
      "cell_type": "code",
      "execution_count": 7,
      "id": "16e1d17e",
      "metadata": {
        "colab": {
          "base_uri": "https://localhost:8080/"
        },
        "id": "16e1d17e",
        "outputId": "d91d966f-5a2a-48bd-8e67-d6b42d0260b3"
      },
      "outputs": [
        {
          "output_type": "execute_result",
          "data": {
            "text/plain": [
              "['Did',\n",
              " 'you',\n",
              " 'know',\n",
              " 'that',\n",
              " 'a',\n",
              " 'clean',\n",
              " 'and',\n",
              " 'tidy',\n",
              " 'bedroom',\n",
              " 'is',\n",
              " 'the',\n",
              " 'secret',\n",
              " 'to',\n",
              " 'peace',\n",
              " '?',\n",
              " 'Actually',\n",
              " ',',\n",
              " 'no',\n",
              " 'it',\n",
              " '’',\n",
              " 's',\n",
              " 'not',\n",
              " '.',\n",
              " 'But',\n",
              " 'it',\n",
              " 'definitely',\n",
              " 'helps',\n",
              " 'and',\n",
              " 'contributes',\n",
              " 'to',\n",
              " 'a',\n",
              " 'happy',\n",
              " 'and',\n",
              " 'healthy',\n",
              " 'lifestyle',\n",
              " '!',\n",
              " 'If',\n",
              " 'everyday',\n",
              " 'you',\n",
              " 'tiptoe',\n",
              " 'through',\n",
              " 'your',\n",
              " 'mess',\n",
              " ',',\n",
              " 'stumble',\n",
              " 'over',\n",
              " 'piles',\n",
              " 'of',\n",
              " 'dirty/clean',\n",
              " 'clothes',\n",
              " 'on',\n",
              " 'the',\n",
              " 'floor',\n",
              " ',',\n",
              " 'find',\n",
              " 'crumbs',\n",
              " 'in',\n",
              " 'and',\n",
              " 'around',\n",
              " 'your',\n",
              " 'bed',\n",
              " 'and',\n",
              " 'spend',\n",
              " 'more',\n",
              " 'than',\n",
              " '45',\n",
              " 'minutes',\n",
              " 'going',\n",
              " 'through',\n",
              " 'your',\n",
              " 'closet',\n",
              " 'just',\n",
              " 'to',\n",
              " 'find',\n",
              " 'what',\n",
              " 'you',\n",
              " '’',\n",
              " 're',\n",
              " 'actually',\n",
              " 'looking',\n",
              " 'for',\n",
              " ',',\n",
              " 'then',\n",
              " 'you',\n",
              " 'might',\n",
              " 'need',\n",
              " 'to',\n",
              " 'tidy',\n",
              " 'up',\n",
              " 'just',\n",
              " 'a',\n",
              " 'lil',\n",
              " '’',\n",
              " 'bit',\n",
              " '.',\n",
              " 'Take',\n",
              " 'into',\n",
              " 'consideration',\n",
              " 'that',\n",
              " 'the',\n",
              " 'bedroom',\n",
              " 'is',\n",
              " 'the',\n",
              " 'place',\n",
              " 'where',\n",
              " 'you',\n",
              " 'start',\n",
              " 'and',\n",
              " 'end',\n",
              " 'each',\n",
              " 'day',\n",
              " 'and',\n",
              " 'you',\n",
              " '’',\n",
              " 'll',\n",
              " 'see',\n",
              " 'how',\n",
              " 'important',\n",
              " 'it',\n",
              " 'is',\n",
              " 'to',\n",
              " 'keep',\n",
              " 'it',\n",
              " 'neat',\n",
              " 'and',\n",
              " 'organized',\n",
              " '.',\n",
              " 'Having',\n",
              " 'a',\n",
              " 'bedroom',\n",
              " 'in',\n",
              " 'such',\n",
              " 'a',\n",
              " 'dirty',\n",
              " 'state',\n",
              " 'can',\n",
              " 'have',\n",
              " 'a',\n",
              " 'variety',\n",
              " 'of',\n",
              " 'negative',\n",
              " 'effects',\n",
              " 'on',\n",
              " 'your',\n",
              " 'life',\n",
              " '.',\n",
              " 'Our',\n",
              " 'mind',\n",
              " 'can',\n",
              " 'not',\n",
              " 'live',\n",
              " 'independently',\n",
              " 'from',\n",
              " 'our',\n",
              " 'environment',\n",
              " ';',\n",
              " 'thus',\n",
              " ',',\n",
              " 'keeping',\n",
              " 'the',\n",
              " 'bedroom',\n",
              " 'tidy',\n",
              " ',',\n",
              " 'clean',\n",
              " ',',\n",
              " 'and',\n",
              " 'organized',\n",
              " 'has',\n",
              " 'an',\n",
              " 'impact',\n",
              " 'on',\n",
              " 'our',\n",
              " 'mood',\n",
              " 'when',\n",
              " 'we',\n",
              " 'get',\n",
              " 'up',\n",
              " ',',\n",
              " 'on',\n",
              " 'the',\n",
              " 'way',\n",
              " 'we',\n",
              " 'start',\n",
              " 'the',\n",
              " 'day',\n",
              " ',',\n",
              " 'and',\n",
              " 'on',\n",
              " 'our',\n",
              " 'ability',\n",
              " 'to',\n",
              " 'face',\n",
              " 'issues',\n",
              " 'head-on',\n",
              " '!',\n",
              " 'A',\n",
              " 'clean',\n",
              " 'room',\n",
              " 'with',\n",
              " 'a',\n",
              " 'made',\n",
              " 'bed',\n",
              " 'and',\n",
              " 'pile-free',\n",
              " 'floors',\n",
              " 'will',\n",
              " 'not',\n",
              " 'only',\n",
              " 'bring',\n",
              " 'happiness',\n",
              " 'and',\n",
              " 'organization',\n",
              " 'to',\n",
              " 'your',\n",
              " 'life',\n",
              " ',',\n",
              " 'it',\n",
              " 'can',\n",
              " 'totally',\n",
              " 'change',\n",
              " 'how',\n",
              " 'your',\n",
              " 'day',\n",
              " 'goes',\n",
              " '.',\n",
              " 'And',\n",
              " 'that',\n",
              " '’',\n",
              " 's',\n",
              " 'the',\n",
              " 'first',\n",
              " 'reason',\n",
              " 'why',\n",
              " 'cleaning',\n",
              " 'your',\n",
              " 'room',\n",
              " 'is',\n",
              " 'important',\n",
              " ':',\n",
              " 'A',\n",
              " 'clean',\n",
              " 'bedroom',\n",
              " 'just',\n",
              " 'makes',\n",
              " 'you',\n",
              " '...',\n",
              " 'happier',\n",
              " '!',\n",
              " 'According',\n",
              " 'to',\n",
              " 'a',\n",
              " 'recent',\n",
              " 'study',\n",
              " 'published',\n",
              " 'in',\n",
              " 'the',\n",
              " 'Personality',\n",
              " 'and',\n",
              " 'Social',\n",
              " 'Psychology',\n",
              " 'Bulletin',\n",
              " ',',\n",
              " 'people',\n",
              " 'who',\n",
              " 'described',\n",
              " 'their',\n",
              " 'homes',\n",
              " 'as',\n",
              " 'cluttered',\n",
              " ',',\n",
              " 'messy',\n",
              " ',',\n",
              " 'and',\n",
              " 'full',\n",
              " 'of',\n",
              " 'unfinished',\n",
              " 'projects',\n",
              " 'were',\n",
              " 'also',\n",
              " 'more',\n",
              " 'depressed',\n",
              " ',',\n",
              " 'tired',\n",
              " 'and',\n",
              " 'stressed',\n",
              " 'out',\n",
              " 'than',\n",
              " 'those',\n",
              " 'who',\n",
              " 'described',\n",
              " 'their',\n",
              " 'homes',\n",
              " 'as',\n",
              " 'restorative',\n",
              " 'and',\n",
              " 'clean',\n",
              " '.',\n",
              " 'In',\n",
              " 'addition',\n",
              " ',',\n",
              " 'a',\n",
              " 'clean',\n",
              " 'room',\n",
              " 'just',\n",
              " 'helps',\n",
              " 'you',\n",
              " 'sleep',\n",
              " 'better',\n",
              " '!',\n",
              " 'And',\n",
              " 'getting',\n",
              " 'enough',\n",
              " 'rest',\n",
              " 'is',\n",
              " 'crucial',\n",
              " 'to',\n",
              " 'your',\n",
              " 'happiness',\n",
              " '.',\n",
              " ':',\n",
              " ')',\n",
              " 'A',\n",
              " 'messy',\n",
              " 'room',\n",
              " 'can',\n",
              " 'be',\n",
              " 'a',\n",
              " 'representation',\n",
              " 'of',\n",
              " 'a',\n",
              " 'disorganized',\n",
              " 'mental',\n",
              " 'state',\n",
              " '.',\n",
              " 'When',\n",
              " 'one',\n",
              " 'decides',\n",
              " 'to',\n",
              " 'be',\n",
              " 'tidy',\n",
              " 'and',\n",
              " 'organized',\n",
              " ',',\n",
              " 'it',\n",
              " 'builds',\n",
              " 'into',\n",
              " 'your',\n",
              " 'life',\n",
              " '!',\n",
              " 'As',\n",
              " 'Marie',\n",
              " 'Kondo',\n",
              " 'states',\n",
              " 'in',\n",
              " 'The',\n",
              " 'Life-Changing',\n",
              " 'Magic',\n",
              " 'of',\n",
              " 'Tidying',\n",
              " 'Up',\n",
              " ',',\n",
              " '“',\n",
              " 'From',\n",
              " 'the',\n",
              " 'moment',\n",
              " 'you',\n",
              " 'start',\n",
              " 'tidying',\n",
              " ',',\n",
              " 'you',\n",
              " 'will',\n",
              " 'be',\n",
              " 'compelled',\n",
              " 'to',\n",
              " 'reset',\n",
              " 'your',\n",
              " 'life',\n",
              " '.',\n",
              " 'As',\n",
              " 'a',\n",
              " 'result',\n",
              " ',',\n",
              " 'your',\n",
              " 'life',\n",
              " 'will',\n",
              " 'start',\n",
              " 'to',\n",
              " 'change.',\n",
              " '”',\n",
              " 'No',\n",
              " ',',\n",
              " 'it',\n",
              " 'does',\n",
              " 'not',\n",
              " 'take',\n",
              " 'too',\n",
              " 'much',\n",
              " 'time',\n",
              " 'or',\n",
              " 'too',\n",
              " 'much',\n",
              " 'work',\n",
              " '.',\n",
              " 'Making',\n",
              " 'your',\n",
              " 'bed',\n",
              " 'can',\n",
              " 'take',\n",
              " 'upwards',\n",
              " 'of…2',\n",
              " 'minutes',\n",
              " '!',\n",
              " 'And',\n",
              " 'that',\n",
              " '’',\n",
              " 's',\n",
              " 'it',\n",
              " '!',\n",
              " 'That',\n",
              " 'two',\n",
              " 'minutes',\n",
              " 'of',\n",
              " '“',\n",
              " 'work',\n",
              " '”',\n",
              " 'in',\n",
              " 'the',\n",
              " 'morning',\n",
              " 'will',\n",
              " 'help',\n",
              " 'to',\n",
              " 'create',\n",
              " 'feelings',\n",
              " 'of',\n",
              " 'positivity',\n",
              " 'and',\n",
              " 'accomplishment',\n",
              " '!',\n",
              " 'Also',\n",
              " ',',\n",
              " 'there',\n",
              " '’',\n",
              " 's',\n",
              " 'nothing',\n",
              " 'quite',\n",
              " 'as',\n",
              " 'relaxing',\n",
              " 'as',\n",
              " 'coming',\n",
              " 'into',\n",
              " 'your',\n",
              " 'room',\n",
              " 'at',\n",
              " 'night',\n",
              " 'and',\n",
              " 'resting',\n",
              " 'in',\n",
              " 'a',\n",
              " 'crisp',\n",
              " ',',\n",
              " 'clean',\n",
              " ',',\n",
              " 'and',\n",
              " 'beautiful',\n",
              " 'bed',\n",
              " '-',\n",
              " 'it',\n",
              " 'can',\n",
              " 'even',\n",
              " 'help',\n",
              " 'you',\n",
              " 'sleep',\n",
              " 'better',\n",
              " 'at',\n",
              " 'night']"
            ]
          },
          "metadata": {},
          "execution_count": 7
        }
      ],
      "source": [
        "words = nltk.word_tokenize(body)\n",
        "words"
      ]
    },
    {
      "cell_type": "markdown",
      "id": "91de0e68",
      "metadata": {
        "id": "91de0e68"
      },
      "source": [
        "### Removal of stopwords"
      ]
    },
    {
      "cell_type": "markdown",
      "id": "24bed7c9",
      "metadata": {
        "id": "24bed7c9"
      },
      "source": [
        "### Removing the stopwords and chooping off the inflection points to get the stem words"
      ]
    },
    {
      "cell_type": "markdown",
      "id": "4d48005b",
      "metadata": {
        "id": "4d48005b"
      },
      "source": [
        "##### Stemming"
      ]
    },
    {
      "cell_type": "code",
      "source": [
        "import nltk\n",
        "\n",
        "# Download the 'stopwords' resource\n",
        "nltk.download('stopwords')\n",
        "\n",
        "# Rest of your code\n",
        "stemmer = PorterStemmer()\n",
        "\n",
        "for i in range(len(sentences)):\n",
        "    words = nltk.word_tokenize(sentences[i])\n",
        "    words = [stemmer.stem(j) for j in words if j not in set(stopwords.words(\"english\"))]\n",
        "    sentences[i] = ' '.join(words)\n",
        "\n",
        "print(sentences)\n"
      ],
      "metadata": {
        "colab": {
          "base_uri": "https://localhost:8080/"
        },
        "id": "3VRudZ9n5JA9",
        "outputId": "d9c3d4bd-0635-4dea-8a46-5b55e81fc079"
      },
      "id": "3VRudZ9n5JA9",
      "execution_count": 10,
      "outputs": [
        {
          "output_type": "stream",
          "name": "stdout",
          "text": [
            "['did know clean tidi bedroom secret peac ?', 'actual , ’ .', 'but definit help contribut happi healthi lifestyl !', 'if everyday tipto mess , stumbl pile dirty/clean cloth floor , find crumb around bed spend 45 minut go closet find ’ actual look , might need tidi lil ’ bit .', 'take consider bedroom place start end day ’ see import keep neat organ .', 'have bedroom dirti state varieti neg effect life .', 'our mind live independ environ ; thu , keep bedroom tidi , clean , organ impact mood get , way start day , abil face issu head-on !', 'a clean room made bed pile-fre floor bring happi organ life , total chang day goe .', 'and ’ first reason clean room import : a clean bedroom make ... happier !', 'accord recent studi publish person social psycholog bulletin , peopl describ home clutter , messi , full unfinish project also depress , tire stress describ home restor clean .', 'in addit , clean room help sleep better !', 'and get enough rest crucial happi .', ': ) a messi room represent disorgan mental state .', 'when one decid tidi organ , build life !', 'as mari kondo state the life-chang magic tidi up , “ from moment start tidi , compel reset life .', 'as result , life start change. ” no , take much time much work .', 'make bed take upward of…2 minut !', 'and ’ !', 'that two minut “ work ” morn help creat feel posit accomplish !', 'also , ’ noth quit relax come room night rest crisp , clean , beauti bed - even help sleep better night']\n"
          ]
        },
        {
          "output_type": "stream",
          "name": "stderr",
          "text": [
            "[nltk_data] Downloading package stopwords to /root/nltk_data...\n",
            "[nltk_data]   Unzipping corpora/stopwords.zip.\n"
          ]
        }
      ]
    },
    {
      "cell_type": "code",
      "execution_count": 10,
      "id": "c4468c9c",
      "metadata": {
        "id": "c4468c9c"
      },
      "outputs": [],
      "source": []
    },
    {
      "cell_type": "markdown",
      "id": "0429c58f",
      "metadata": {
        "id": "0429c58f"
      },
      "source": [
        "### Lemmatization"
      ]
    },
    {
      "cell_type": "markdown",
      "id": "805bb8c5",
      "metadata": {
        "id": "805bb8c5"
      },
      "source": [
        "### This technique hits up the pre-trained vocab to gather the meaning of the words and get the root word called lemma."
      ]
    },
    {
      "cell_type": "code",
      "execution_count": 11,
      "id": "ccbf1e66",
      "metadata": {
        "colab": {
          "base_uri": "https://localhost:8080/"
        },
        "id": "ccbf1e66",
        "outputId": "93aeb2db-3ba6-418b-b9b1-142abeca7ed4"
      },
      "outputs": [
        {
          "output_type": "stream",
          "name": "stdout",
          "text": [
            "Collecting Pattern\n",
            "  Downloading Pattern-3.6.0.tar.gz (22.2 MB)\n",
            "\u001b[2K     \u001b[90m━━━━━━━━━━━━━━━━━━━━━━━━━━━━━━━━━━━━━━━━\u001b[0m \u001b[32m22.2/22.2 MB\u001b[0m \u001b[31m29.3 MB/s\u001b[0m eta \u001b[36m0:00:00\u001b[0m\n",
            "\u001b[?25h  Preparing metadata (setup.py) ... \u001b[?25l\u001b[?25hdone\n",
            "Requirement already satisfied: future in /usr/local/lib/python3.10/dist-packages (from Pattern) (0.18.3)\n",
            "Collecting backports.csv (from Pattern)\n",
            "  Downloading backports.csv-1.0.7-py2.py3-none-any.whl (12 kB)\n",
            "Collecting mysqlclient (from Pattern)\n",
            "  Downloading mysqlclient-2.2.1.tar.gz (89 kB)\n",
            "\u001b[2K     \u001b[90m━━━━━━━━━━━━━━━━━━━━━━━━━━━━━━━━━━━━━━━━\u001b[0m \u001b[32m90.0/90.0 kB\u001b[0m \u001b[31m10.9 MB/s\u001b[0m eta \u001b[36m0:00:00\u001b[0m\n",
            "\u001b[?25h  Installing build dependencies ... \u001b[?25l\u001b[?25hdone\n",
            "  Getting requirements to build wheel ... \u001b[?25l\u001b[?25hdone\n",
            "  Installing backend dependencies ... \u001b[?25l\u001b[?25hdone\n",
            "  Preparing metadata (pyproject.toml) ... \u001b[?25l\u001b[?25hdone\n",
            "Requirement already satisfied: beautifulsoup4 in /usr/local/lib/python3.10/dist-packages (from Pattern) (4.12.3)\n",
            "Requirement already satisfied: lxml in /usr/local/lib/python3.10/dist-packages (from Pattern) (4.9.4)\n",
            "Collecting feedparser (from Pattern)\n",
            "  Downloading feedparser-6.0.11-py3-none-any.whl (81 kB)\n",
            "\u001b[2K     \u001b[90m━━━━━━━━━━━━━━━━━━━━━━━━━━━━━━━━━━━━━━━━\u001b[0m \u001b[32m81.3/81.3 kB\u001b[0m \u001b[31m9.4 MB/s\u001b[0m eta \u001b[36m0:00:00\u001b[0m\n",
            "\u001b[?25hCollecting pdfminer.six (from Pattern)\n",
            "  Downloading pdfminer.six-20231228-py3-none-any.whl (5.6 MB)\n",
            "\u001b[2K     \u001b[90m━━━━━━━━━━━━━━━━━━━━━━━━━━━━━━━━━━━━━━━━\u001b[0m \u001b[32m5.6/5.6 MB\u001b[0m \u001b[31m69.3 MB/s\u001b[0m eta \u001b[36m0:00:00\u001b[0m\n",
            "\u001b[?25hRequirement already satisfied: numpy in /usr/local/lib/python3.10/dist-packages (from Pattern) (1.23.5)\n",
            "Requirement already satisfied: scipy in /usr/local/lib/python3.10/dist-packages (from Pattern) (1.11.4)\n",
            "Requirement already satisfied: nltk in /usr/local/lib/python3.10/dist-packages (from Pattern) (3.8.1)\n",
            "Collecting python-docx (from Pattern)\n",
            "  Downloading python_docx-1.1.0-py3-none-any.whl (239 kB)\n",
            "\u001b[2K     \u001b[90m━━━━━━━━━━━━━━━━━━━━━━━━━━━━━━━━━━━━━━━━\u001b[0m \u001b[32m239.6/239.6 kB\u001b[0m \u001b[31m26.1 MB/s\u001b[0m eta \u001b[36m0:00:00\u001b[0m\n",
            "\u001b[?25hCollecting cherrypy (from Pattern)\n",
            "  Downloading CherryPy-18.9.0-py3-none-any.whl (348 kB)\n",
            "\u001b[2K     \u001b[90m━━━━━━━━━━━━━━━━━━━━━━━━━━━━━━━━━━━━━━━━\u001b[0m \u001b[32m348.8/348.8 kB\u001b[0m \u001b[31m28.4 MB/s\u001b[0m eta \u001b[36m0:00:00\u001b[0m\n",
            "\u001b[?25hRequirement already satisfied: requests in /usr/local/lib/python3.10/dist-packages (from Pattern) (2.31.0)\n",
            "Requirement already satisfied: soupsieve>1.2 in /usr/local/lib/python3.10/dist-packages (from beautifulsoup4->Pattern) (2.5)\n",
            "Collecting cheroot>=8.2.1 (from cherrypy->Pattern)\n",
            "  Downloading cheroot-10.0.0-py3-none-any.whl (101 kB)\n",
            "\u001b[2K     \u001b[90m━━━━━━━━━━━━━━━━━━━━━━━━━━━━━━━━━━━━━━━━\u001b[0m \u001b[32m101.6/101.6 kB\u001b[0m \u001b[31m13.0 MB/s\u001b[0m eta \u001b[36m0:00:00\u001b[0m\n",
            "\u001b[?25hCollecting portend>=2.1.1 (from cherrypy->Pattern)\n",
            "  Downloading portend-3.2.0-py3-none-any.whl (5.3 kB)\n",
            "Requirement already satisfied: more-itertools in /usr/local/lib/python3.10/dist-packages (from cherrypy->Pattern) (10.1.0)\n",
            "Collecting zc.lockfile (from cherrypy->Pattern)\n",
            "  Downloading zc.lockfile-3.0.post1-py3-none-any.whl (9.8 kB)\n",
            "Collecting jaraco.collections (from cherrypy->Pattern)\n",
            "  Downloading jaraco.collections-5.0.0-py3-none-any.whl (10 kB)\n",
            "Collecting sgmllib3k (from feedparser->Pattern)\n",
            "  Downloading sgmllib3k-1.0.0.tar.gz (5.8 kB)\n",
            "  Preparing metadata (setup.py) ... \u001b[?25l\u001b[?25hdone\n",
            "Requirement already satisfied: click in /usr/local/lib/python3.10/dist-packages (from nltk->Pattern) (8.1.7)\n",
            "Requirement already satisfied: joblib in /usr/local/lib/python3.10/dist-packages (from nltk->Pattern) (1.3.2)\n",
            "Requirement already satisfied: regex>=2021.8.3 in /usr/local/lib/python3.10/dist-packages (from nltk->Pattern) (2023.12.25)\n",
            "Requirement already satisfied: tqdm in /usr/local/lib/python3.10/dist-packages (from nltk->Pattern) (4.66.1)\n",
            "Requirement already satisfied: charset-normalizer>=2.0.0 in /usr/local/lib/python3.10/dist-packages (from pdfminer.six->Pattern) (3.3.2)\n",
            "Requirement already satisfied: cryptography>=36.0.0 in /usr/local/lib/python3.10/dist-packages (from pdfminer.six->Pattern) (42.0.2)\n",
            "Requirement already satisfied: typing-extensions in /usr/local/lib/python3.10/dist-packages (from python-docx->Pattern) (4.5.0)\n",
            "Requirement already satisfied: idna<4,>=2.5 in /usr/local/lib/python3.10/dist-packages (from requests->Pattern) (3.6)\n",
            "Requirement already satisfied: urllib3<3,>=1.21.1 in /usr/local/lib/python3.10/dist-packages (from requests->Pattern) (2.0.7)\n",
            "Requirement already satisfied: certifi>=2017.4.17 in /usr/local/lib/python3.10/dist-packages (from requests->Pattern) (2023.11.17)\n",
            "Collecting jaraco.functools (from cheroot>=8.2.1->cherrypy->Pattern)\n",
            "  Downloading jaraco.functools-4.0.0-py3-none-any.whl (9.8 kB)\n",
            "Requirement already satisfied: cffi>=1.12 in /usr/local/lib/python3.10/dist-packages (from cryptography>=36.0.0->pdfminer.six->Pattern) (1.16.0)\n",
            "Collecting tempora>=1.8 (from portend>=2.1.1->cherrypy->Pattern)\n",
            "  Downloading tempora-5.5.0-py3-none-any.whl (13 kB)\n",
            "Collecting jaraco.text (from jaraco.collections->cherrypy->Pattern)\n",
            "  Downloading jaraco.text-3.12.0-py3-none-any.whl (11 kB)\n",
            "Requirement already satisfied: setuptools in /usr/local/lib/python3.10/dist-packages (from zc.lockfile->cherrypy->Pattern) (67.7.2)\n",
            "Requirement already satisfied: pycparser in /usr/local/lib/python3.10/dist-packages (from cffi>=1.12->cryptography>=36.0.0->pdfminer.six->Pattern) (2.21)\n",
            "Requirement already satisfied: pytz in /usr/local/lib/python3.10/dist-packages (from tempora>=1.8->portend>=2.1.1->cherrypy->Pattern) (2023.4)\n",
            "Collecting jaraco.context>=4.1 (from jaraco.text->jaraco.collections->cherrypy->Pattern)\n",
            "  Downloading jaraco.context-4.3.0-py3-none-any.whl (5.3 kB)\n",
            "Collecting autocommand (from jaraco.text->jaraco.collections->cherrypy->Pattern)\n",
            "  Downloading autocommand-2.2.2-py3-none-any.whl (19 kB)\n",
            "Requirement already satisfied: inflect in /usr/local/lib/python3.10/dist-packages (from jaraco.text->jaraco.collections->cherrypy->Pattern) (7.0.0)\n",
            "Requirement already satisfied: pydantic>=1.9.1 in /usr/local/lib/python3.10/dist-packages (from inflect->jaraco.text->jaraco.collections->cherrypy->Pattern) (1.10.14)\n",
            "Building wheels for collected packages: Pattern, mysqlclient, sgmllib3k\n",
            "  Building wheel for Pattern (setup.py) ... \u001b[?25l\u001b[?25hdone\n",
            "  Created wheel for Pattern: filename=Pattern-3.6-py3-none-any.whl size=22332702 sha256=5d62987824fe3fa1004df71454b0ae5266fb22bf69562a191e62aadeb5e43b10\n",
            "  Stored in directory: /root/.cache/pip/wheels/d1/8f/40/fe23abd593ef60be5bfaf3e02154d3484df42aa947bbf4d499\n",
            "  Building wheel for mysqlclient (pyproject.toml) ... \u001b[?25l\u001b[?25hdone\n",
            "  Created wheel for mysqlclient: filename=mysqlclient-2.2.1-cp310-cp310-linux_x86_64.whl size=123922 sha256=952f771fec032e4374c54d738737ef4dfe7a04edf24feccd454786f0d7bf73c4\n",
            "  Stored in directory: /root/.cache/pip/wheels/93/84/49/615c5604001ebe3bb11c45628f22102cf563d6766a43a0e7a1\n",
            "  Building wheel for sgmllib3k (setup.py) ... \u001b[?25l\u001b[?25hdone\n",
            "  Created wheel for sgmllib3k: filename=sgmllib3k-1.0.0-py3-none-any.whl size=6048 sha256=4ab0b205456ef7ea06b03b07e07b195699a116c86e1f4020013a6eb331aa72f4\n",
            "  Stored in directory: /root/.cache/pip/wheels/f0/69/93/a47e9d621be168e9e33c7ce60524393c0b92ae83cf6c6e89c5\n",
            "Successfully built Pattern mysqlclient sgmllib3k\n",
            "Installing collected packages: sgmllib3k, backports.csv, zc.lockfile, python-docx, mysqlclient, jaraco.functools, jaraco.context, feedparser, autocommand, tempora, cheroot, portend, pdfminer.six, jaraco.text, jaraco.collections, cherrypy, Pattern\n",
            "Successfully installed Pattern-3.6 autocommand-2.2.2 backports.csv-1.0.7 cheroot-10.0.0 cherrypy-18.9.0 feedparser-6.0.11 jaraco.collections-5.0.0 jaraco.context-4.3.0 jaraco.functools-4.0.0 jaraco.text-3.12.0 mysqlclient-2.2.1 pdfminer.six-20231228 portend-3.2.0 python-docx-1.1.0 sgmllib3k-1.0.0 tempora-5.5.0 zc.lockfile-3.0.post1\n",
            "Requirement already satisfied: msgpack in /usr/local/lib/python3.10/dist-packages (1.0.7)\n"
          ]
        }
      ],
      "source": [
        "#lemmatization final\n",
        "#Process of reducing infected words to its base form\n",
        "!pip install Pattern\n",
        "!pip install msgpack"
      ]
    },
    {
      "cell_type": "code",
      "execution_count": 12,
      "id": "f683053d",
      "metadata": {
        "id": "f683053d"
      },
      "outputs": [],
      "source": [
        "\n",
        "#nltk.download('omw-1.4')\n",
        "\n",
        "import pattern\n",
        "from pattern.en import lemma"
      ]
    },
    {
      "cell_type": "code",
      "source": [
        "pip install --upgrade pattern\n"
      ],
      "metadata": {
        "colab": {
          "base_uri": "https://localhost:8080/"
        },
        "id": "7VojeLYM6QWA",
        "outputId": "4e61f5c1-8293-4ef9-8062-7136a060eb48"
      },
      "id": "7VojeLYM6QWA",
      "execution_count": 14,
      "outputs": [
        {
          "output_type": "stream",
          "name": "stdout",
          "text": [
            "Requirement already satisfied: pattern in /usr/local/lib/python3.10/dist-packages (3.6)\n",
            "Requirement already satisfied: future in /usr/local/lib/python3.10/dist-packages (from pattern) (0.18.3)\n",
            "Requirement already satisfied: backports.csv in /usr/local/lib/python3.10/dist-packages (from pattern) (1.0.7)\n",
            "Requirement already satisfied: mysqlclient in /usr/local/lib/python3.10/dist-packages (from pattern) (2.2.1)\n",
            "Requirement already satisfied: beautifulsoup4 in /usr/local/lib/python3.10/dist-packages (from pattern) (4.12.3)\n",
            "Requirement already satisfied: lxml in /usr/local/lib/python3.10/dist-packages (from pattern) (4.9.4)\n",
            "Requirement already satisfied: feedparser in /usr/local/lib/python3.10/dist-packages (from pattern) (6.0.11)\n",
            "Requirement already satisfied: pdfminer.six in /usr/local/lib/python3.10/dist-packages (from pattern) (20231228)\n",
            "Requirement already satisfied: numpy in /usr/local/lib/python3.10/dist-packages (from pattern) (1.23.5)\n",
            "Requirement already satisfied: scipy in /usr/local/lib/python3.10/dist-packages (from pattern) (1.11.4)\n",
            "Requirement already satisfied: nltk in /usr/local/lib/python3.10/dist-packages (from pattern) (3.8.1)\n",
            "Requirement already satisfied: python-docx in /usr/local/lib/python3.10/dist-packages (from pattern) (1.1.0)\n",
            "Requirement already satisfied: cherrypy in /usr/local/lib/python3.10/dist-packages (from pattern) (18.9.0)\n",
            "Requirement already satisfied: requests in /usr/local/lib/python3.10/dist-packages (from pattern) (2.31.0)\n",
            "Requirement already satisfied: soupsieve>1.2 in /usr/local/lib/python3.10/dist-packages (from beautifulsoup4->pattern) (2.5)\n",
            "Requirement already satisfied: cheroot>=8.2.1 in /usr/local/lib/python3.10/dist-packages (from cherrypy->pattern) (10.0.0)\n",
            "Requirement already satisfied: portend>=2.1.1 in /usr/local/lib/python3.10/dist-packages (from cherrypy->pattern) (3.2.0)\n",
            "Requirement already satisfied: more-itertools in /usr/local/lib/python3.10/dist-packages (from cherrypy->pattern) (10.1.0)\n",
            "Requirement already satisfied: zc.lockfile in /usr/local/lib/python3.10/dist-packages (from cherrypy->pattern) (3.0.post1)\n",
            "Requirement already satisfied: jaraco.collections in /usr/local/lib/python3.10/dist-packages (from cherrypy->pattern) (5.0.0)\n",
            "Requirement already satisfied: sgmllib3k in /usr/local/lib/python3.10/dist-packages (from feedparser->pattern) (1.0.0)\n",
            "Requirement already satisfied: click in /usr/local/lib/python3.10/dist-packages (from nltk->pattern) (8.1.7)\n",
            "Requirement already satisfied: joblib in /usr/local/lib/python3.10/dist-packages (from nltk->pattern) (1.3.2)\n",
            "Requirement already satisfied: regex>=2021.8.3 in /usr/local/lib/python3.10/dist-packages (from nltk->pattern) (2023.12.25)\n",
            "Requirement already satisfied: tqdm in /usr/local/lib/python3.10/dist-packages (from nltk->pattern) (4.66.1)\n",
            "Requirement already satisfied: charset-normalizer>=2.0.0 in /usr/local/lib/python3.10/dist-packages (from pdfminer.six->pattern) (3.3.2)\n",
            "Requirement already satisfied: cryptography>=36.0.0 in /usr/local/lib/python3.10/dist-packages (from pdfminer.six->pattern) (42.0.2)\n",
            "Requirement already satisfied: typing-extensions in /usr/local/lib/python3.10/dist-packages (from python-docx->pattern) (4.5.0)\n",
            "Requirement already satisfied: idna<4,>=2.5 in /usr/local/lib/python3.10/dist-packages (from requests->pattern) (3.6)\n",
            "Requirement already satisfied: urllib3<3,>=1.21.1 in /usr/local/lib/python3.10/dist-packages (from requests->pattern) (2.0.7)\n",
            "Requirement already satisfied: certifi>=2017.4.17 in /usr/local/lib/python3.10/dist-packages (from requests->pattern) (2023.11.17)\n",
            "Requirement already satisfied: jaraco.functools in /usr/local/lib/python3.10/dist-packages (from cheroot>=8.2.1->cherrypy->pattern) (4.0.0)\n",
            "Requirement already satisfied: cffi>=1.12 in /usr/local/lib/python3.10/dist-packages (from cryptography>=36.0.0->pdfminer.six->pattern) (1.16.0)\n",
            "Requirement already satisfied: tempora>=1.8 in /usr/local/lib/python3.10/dist-packages (from portend>=2.1.1->cherrypy->pattern) (5.5.0)\n",
            "Requirement already satisfied: jaraco.text in /usr/local/lib/python3.10/dist-packages (from jaraco.collections->cherrypy->pattern) (3.12.0)\n",
            "Requirement already satisfied: setuptools in /usr/local/lib/python3.10/dist-packages (from zc.lockfile->cherrypy->pattern) (67.7.2)\n",
            "Requirement already satisfied: pycparser in /usr/local/lib/python3.10/dist-packages (from cffi>=1.12->cryptography>=36.0.0->pdfminer.six->pattern) (2.21)\n",
            "Requirement already satisfied: pytz in /usr/local/lib/python3.10/dist-packages (from tempora>=1.8->portend>=2.1.1->cherrypy->pattern) (2023.4)\n",
            "Requirement already satisfied: jaraco.context>=4.1 in /usr/local/lib/python3.10/dist-packages (from jaraco.text->jaraco.collections->cherrypy->pattern) (4.3.0)\n",
            "Requirement already satisfied: autocommand in /usr/local/lib/python3.10/dist-packages (from jaraco.text->jaraco.collections->cherrypy->pattern) (2.2.2)\n",
            "Requirement already satisfied: inflect in /usr/local/lib/python3.10/dist-packages (from jaraco.text->jaraco.collections->cherrypy->pattern) (7.0.0)\n",
            "Requirement already satisfied: pydantic>=1.9.1 in /usr/local/lib/python3.10/dist-packages (from inflect->jaraco.text->jaraco.collections->cherrypy->pattern) (1.10.14)\n"
          ]
        }
      ]
    },
    {
      "cell_type": "code",
      "source": [
        "import nltk\n",
        "nltk.download('wordnet')\n"
      ],
      "metadata": {
        "colab": {
          "base_uri": "https://localhost:8080/"
        },
        "id": "wHrbB7Hi6f6H",
        "outputId": "52a2c37c-5298-4af2-f02a-48ee7c6b785a"
      },
      "id": "wHrbB7Hi6f6H",
      "execution_count": 15,
      "outputs": [
        {
          "output_type": "stream",
          "name": "stderr",
          "text": [
            "[nltk_data] Downloading package wordnet to /root/nltk_data...\n",
            "[nltk_data]   Package wordnet is already up-to-date!\n"
          ]
        },
        {
          "output_type": "execute_result",
          "data": {
            "text/plain": [
              "True"
            ]
          },
          "metadata": {},
          "execution_count": 15
        }
      ]
    },
    {
      "cell_type": "code",
      "source": [
        "import nltk\n",
        "from pattern.en import lemma\n",
        "from nltk.corpus import stopwords\n",
        "\n",
        "# Download necessary resources\n",
        "nltk.download('wordnet')\n",
        "\n",
        "sent1 = nltk.sent_tokenize(body)\n",
        "\n",
        "for i in range(len(sent1)):\n",
        "    words = nltk.word_tokenize(sent1[i])\n",
        "    words = [lemma(j) for j in words if j not in set(stopwords.words(\"english\"))]\n",
        "    sent1[i] = ' '.join(words)\n",
        "\n",
        "print(sent1)\n"
      ],
      "metadata": {
        "colab": {
          "base_uri": "https://localhost:8080/"
        },
        "id": "lRlLMYd66kQT",
        "outputId": "fe210fdc-245e-4aed-a7ae-c60777fcac30"
      },
      "id": "lRlLMYd66kQT",
      "execution_count": 16,
      "outputs": [
        {
          "output_type": "stream",
          "name": "stdout",
          "text": [
            "['do know clean tidy bedroom secret peace ?', 'actually , ’ .', 'but definitely help contribute happy healthy lifestyle !', 'if everyday tiptoe mess , stumble pile dirty/clean clothe floor , find crumb around bed spend 45 minute go closet find ’ actually look , might need tidy lil ’ bit .', 'take consideration bedroom place start end day ’ see important keep neat organize .', 'have bedroom dirty state variety negative effect life .', 'our mind live independently environment ; thu , keep bedroom tidy , clean , organize impact mood get , way start day , ability face issue head-on !', 'a clean room make bed pile-free floor bring happines organization life , totally change day go .', 'and ’ first reason clean room important : a clean bedroom make ... happier !', 'accord recent study publish personality social psychology bulletin , people describe home clutter , messy , full unfinish project also depress , tire stress describe home restorative clean .', 'in addition , clean room help sleep better !', 'and get enough rest crucial happines .', ': ) a messy room representation disorganize mental state .', 'when one decide tidy organize , build life !', 'a marie kondo state the life-change magic tidy up , “ from moment start tidy , compel reset life .', 'a result , life start change. ” no , take much time much work .', 'make bed take upward of…2 minute !', 'and ’ !', 'that two minute “ work ” morn help create feeling positivity accomplishment !', 'also , ’ nothe quite relax come room night rest crisp , clean , beautiful bed - even help sleep better night']\n"
          ]
        },
        {
          "output_type": "stream",
          "name": "stderr",
          "text": [
            "[nltk_data] Downloading package wordnet to /root/nltk_data...\n",
            "[nltk_data]   Package wordnet is already up-to-date!\n"
          ]
        }
      ]
    },
    {
      "cell_type": "code",
      "execution_count": 16,
      "id": "cd9e426c",
      "metadata": {
        "id": "cd9e426c"
      },
      "outputs": [],
      "source": []
    },
    {
      "cell_type": "markdown",
      "id": "72117318",
      "metadata": {
        "id": "72117318"
      },
      "source": [
        "###  Removing punctuation and conveting the text to lower case"
      ]
    },
    {
      "cell_type": "code",
      "execution_count": 17,
      "id": "529dce18",
      "metadata": {
        "colab": {
          "base_uri": "https://localhost:8080/"
        },
        "id": "529dce18",
        "outputId": "f9b65960-0473-4ffa-8210-b49fbd525b7a"
      },
      "outputs": [
        {
          "output_type": "execute_result",
          "data": {
            "text/plain": [
              "['know clean tidy bedroom secret peace',\n",
              " 'actually',\n",
              " 'definitely help contribute happy healthy lifestyle',\n",
              " 'everyday tiptoe mess stumble pile dirty clean clothe floor find crumb around bed spend minute go closet find actually look might need tidy lil bit',\n",
              " 'take consideration bedroom place start end day see important keep neat organize',\n",
              " 'bedroom dirty state variety negative effect life',\n",
              " 'mind cannot live independently environment thu keep bedroom tidy clean organize impact mood get way start day ability face issue head',\n",
              " 'clean room make bed pile free floor bring happines organization life totally change day go',\n",
              " 'first reason clean room important clean bedroom make happier',\n",
              " 'accord recent study publish personality social psychology bulletin people describe home clutter messy full unfinish project also depress tire stress describe home restorative clean',\n",
              " 'addition clean room help sleep better',\n",
              " 'get enough rest crucial happines',\n",
              " 'messy room representation disorganize mental state',\n",
              " 'one decide tidy organize build life',\n",
              " 'marie kondo state life change magic tidy moment start tidy compel reset life',\n",
              " 'result life start change take much time much work',\n",
              " 'make bed take upward minute',\n",
              " '',\n",
              " 'two minute work morn help create feeling positivity accomplishment',\n",
              " 'also nothe quite relax come room night rest crisp clean beautiful bed even help sleep better night']"
            ]
          },
          "metadata": {},
          "execution_count": 17
        }
      ],
      "source": [
        "#count vectorizer\n",
        "\n",
        "sentences=nltk.sent_tokenize(body)\n",
        "\n",
        "corpus=[]\n",
        "for i in range(len(sentences)):\n",
        "    review = re.sub('[^a-zA-Z]',' ',sentences[i])\n",
        "    review=review.lower()\n",
        "    review=review.split()\n",
        "    review=[lemma(j) for j in review if not j in set(stopwords.words(\"english\"))]\n",
        "    review= ' '.join(review)\n",
        "    corpus.append(review)\n",
        "\n",
        "corpus\n",
        ""
      ]
    },
    {
      "cell_type": "markdown",
      "id": "da041db9",
      "metadata": {
        "id": "da041db9"
      },
      "source": [
        "## Bag of words Vector"
      ]
    },
    {
      "cell_type": "markdown",
      "id": "c7cc83b5",
      "metadata": {
        "id": "c7cc83b5"
      },
      "source": [
        "###  Converting the words to a vector form (1 & 0) so that it can be used to apply algorithms"
      ]
    },
    {
      "cell_type": "code",
      "execution_count": 18,
      "id": "2876607f",
      "metadata": {
        "colab": {
          "base_uri": "https://localhost:8080/"
        },
        "id": "2876607f",
        "outputId": "3e16567c-2bfe-4ded-8d20-31d871180f1f"
      },
      "outputs": [
        {
          "output_type": "execute_result",
          "data": {
            "text/plain": [
              "array([[0, 0, 0, ..., 0, 0, 0],\n",
              "       [0, 0, 0, ..., 0, 0, 0],\n",
              "       [0, 0, 0, ..., 0, 0, 0],\n",
              "       ...,\n",
              "       [0, 0, 0, ..., 0, 0, 0],\n",
              "       [0, 1, 0, ..., 0, 0, 1],\n",
              "       [0, 0, 0, ..., 0, 0, 0]])"
            ]
          },
          "metadata": {},
          "execution_count": 18
        }
      ],
      "source": [
        "from sklearn.feature_extraction.text import CountVectorizer\n",
        "from sklearn.feature_extraction.text import TfidfVectorizer\n",
        "from collections import Counter\n",
        "import pprint\n",
        "cv=CountVectorizer()\n",
        "x=cv.fit_transform(corpus).toarray()\n",
        "x"
      ]
    },
    {
      "cell_type": "markdown",
      "id": "f9b996c8",
      "metadata": {
        "id": "f9b996c8"
      },
      "source": [
        "## Importing Data-Set"
      ]
    },
    {
      "cell_type": "code",
      "execution_count": 20,
      "id": "95c6b9a7",
      "metadata": {
        "colab": {
          "base_uri": "https://localhost:8080/",
          "height": 206
        },
        "id": "95c6b9a7",
        "outputId": "3c7b91e8-a879-43f8-a3c6-0695c5c2940b"
      },
      "outputs": [
        {
          "output_type": "execute_result",
          "data": {
            "text/plain": [
              "     v1                                                 v2 Unnamed: 2  \\\n",
              "0   ham  Go until jurong point, crazy.. Available only ...        NaN   \n",
              "1   ham                      Ok lar... Joking wif u oni...        NaN   \n",
              "2  spam  Free entry in 2 a wkly comp to win FA Cup fina...        NaN   \n",
              "3   ham  U dun say so early hor... U c already then say...        NaN   \n",
              "4   ham  Nah I don't think he goes to usf, he lives aro...        NaN   \n",
              "\n",
              "  Unnamed: 3 Unnamed: 4  \n",
              "0        NaN        NaN  \n",
              "1        NaN        NaN  \n",
              "2        NaN        NaN  \n",
              "3        NaN        NaN  \n",
              "4        NaN        NaN  "
            ],
            "text/html": [
              "\n",
              "  <div id=\"df-677b5260-b266-4bf9-99c9-741c45d9e29f\" class=\"colab-df-container\">\n",
              "    <div>\n",
              "<style scoped>\n",
              "    .dataframe tbody tr th:only-of-type {\n",
              "        vertical-align: middle;\n",
              "    }\n",
              "\n",
              "    .dataframe tbody tr th {\n",
              "        vertical-align: top;\n",
              "    }\n",
              "\n",
              "    .dataframe thead th {\n",
              "        text-align: right;\n",
              "    }\n",
              "</style>\n",
              "<table border=\"1\" class=\"dataframe\">\n",
              "  <thead>\n",
              "    <tr style=\"text-align: right;\">\n",
              "      <th></th>\n",
              "      <th>v1</th>\n",
              "      <th>v2</th>\n",
              "      <th>Unnamed: 2</th>\n",
              "      <th>Unnamed: 3</th>\n",
              "      <th>Unnamed: 4</th>\n",
              "    </tr>\n",
              "  </thead>\n",
              "  <tbody>\n",
              "    <tr>\n",
              "      <th>0</th>\n",
              "      <td>ham</td>\n",
              "      <td>Go until jurong point, crazy.. Available only ...</td>\n",
              "      <td>NaN</td>\n",
              "      <td>NaN</td>\n",
              "      <td>NaN</td>\n",
              "    </tr>\n",
              "    <tr>\n",
              "      <th>1</th>\n",
              "      <td>ham</td>\n",
              "      <td>Ok lar... Joking wif u oni...</td>\n",
              "      <td>NaN</td>\n",
              "      <td>NaN</td>\n",
              "      <td>NaN</td>\n",
              "    </tr>\n",
              "    <tr>\n",
              "      <th>2</th>\n",
              "      <td>spam</td>\n",
              "      <td>Free entry in 2 a wkly comp to win FA Cup fina...</td>\n",
              "      <td>NaN</td>\n",
              "      <td>NaN</td>\n",
              "      <td>NaN</td>\n",
              "    </tr>\n",
              "    <tr>\n",
              "      <th>3</th>\n",
              "      <td>ham</td>\n",
              "      <td>U dun say so early hor... U c already then say...</td>\n",
              "      <td>NaN</td>\n",
              "      <td>NaN</td>\n",
              "      <td>NaN</td>\n",
              "    </tr>\n",
              "    <tr>\n",
              "      <th>4</th>\n",
              "      <td>ham</td>\n",
              "      <td>Nah I don't think he goes to usf, he lives aro...</td>\n",
              "      <td>NaN</td>\n",
              "      <td>NaN</td>\n",
              "      <td>NaN</td>\n",
              "    </tr>\n",
              "  </tbody>\n",
              "</table>\n",
              "</div>\n",
              "    <div class=\"colab-df-buttons\">\n",
              "\n",
              "  <div class=\"colab-df-container\">\n",
              "    <button class=\"colab-df-convert\" onclick=\"convertToInteractive('df-677b5260-b266-4bf9-99c9-741c45d9e29f')\"\n",
              "            title=\"Convert this dataframe to an interactive table.\"\n",
              "            style=\"display:none;\">\n",
              "\n",
              "  <svg xmlns=\"http://www.w3.org/2000/svg\" height=\"24px\" viewBox=\"0 -960 960 960\">\n",
              "    <path d=\"M120-120v-720h720v720H120Zm60-500h600v-160H180v160Zm220 220h160v-160H400v160Zm0 220h160v-160H400v160ZM180-400h160v-160H180v160Zm440 0h160v-160H620v160ZM180-180h160v-160H180v160Zm440 0h160v-160H620v160Z\"/>\n",
              "  </svg>\n",
              "    </button>\n",
              "\n",
              "  <style>\n",
              "    .colab-df-container {\n",
              "      display:flex;\n",
              "      gap: 12px;\n",
              "    }\n",
              "\n",
              "    .colab-df-convert {\n",
              "      background-color: #E8F0FE;\n",
              "      border: none;\n",
              "      border-radius: 50%;\n",
              "      cursor: pointer;\n",
              "      display: none;\n",
              "      fill: #1967D2;\n",
              "      height: 32px;\n",
              "      padding: 0 0 0 0;\n",
              "      width: 32px;\n",
              "    }\n",
              "\n",
              "    .colab-df-convert:hover {\n",
              "      background-color: #E2EBFA;\n",
              "      box-shadow: 0px 1px 2px rgba(60, 64, 67, 0.3), 0px 1px 3px 1px rgba(60, 64, 67, 0.15);\n",
              "      fill: #174EA6;\n",
              "    }\n",
              "\n",
              "    .colab-df-buttons div {\n",
              "      margin-bottom: 4px;\n",
              "    }\n",
              "\n",
              "    [theme=dark] .colab-df-convert {\n",
              "      background-color: #3B4455;\n",
              "      fill: #D2E3FC;\n",
              "    }\n",
              "\n",
              "    [theme=dark] .colab-df-convert:hover {\n",
              "      background-color: #434B5C;\n",
              "      box-shadow: 0px 1px 3px 1px rgba(0, 0, 0, 0.15);\n",
              "      filter: drop-shadow(0px 1px 2px rgba(0, 0, 0, 0.3));\n",
              "      fill: #FFFFFF;\n",
              "    }\n",
              "  </style>\n",
              "\n",
              "    <script>\n",
              "      const buttonEl =\n",
              "        document.querySelector('#df-677b5260-b266-4bf9-99c9-741c45d9e29f button.colab-df-convert');\n",
              "      buttonEl.style.display =\n",
              "        google.colab.kernel.accessAllowed ? 'block' : 'none';\n",
              "\n",
              "      async function convertToInteractive(key) {\n",
              "        const element = document.querySelector('#df-677b5260-b266-4bf9-99c9-741c45d9e29f');\n",
              "        const dataTable =\n",
              "          await google.colab.kernel.invokeFunction('convertToInteractive',\n",
              "                                                    [key], {});\n",
              "        if (!dataTable) return;\n",
              "\n",
              "        const docLinkHtml = 'Like what you see? Visit the ' +\n",
              "          '<a target=\"_blank\" href=https://colab.research.google.com/notebooks/data_table.ipynb>data table notebook</a>'\n",
              "          + ' to learn more about interactive tables.';\n",
              "        element.innerHTML = '';\n",
              "        dataTable['output_type'] = 'display_data';\n",
              "        await google.colab.output.renderOutput(dataTable, element);\n",
              "        const docLink = document.createElement('div');\n",
              "        docLink.innerHTML = docLinkHtml;\n",
              "        element.appendChild(docLink);\n",
              "      }\n",
              "    </script>\n",
              "  </div>\n",
              "\n",
              "\n",
              "<div id=\"df-ae2f364e-7ae4-4fc1-a963-f2bfc097f578\">\n",
              "  <button class=\"colab-df-quickchart\" onclick=\"quickchart('df-ae2f364e-7ae4-4fc1-a963-f2bfc097f578')\"\n",
              "            title=\"Suggest charts\"\n",
              "            style=\"display:none;\">\n",
              "\n",
              "<svg xmlns=\"http://www.w3.org/2000/svg\" height=\"24px\"viewBox=\"0 0 24 24\"\n",
              "     width=\"24px\">\n",
              "    <g>\n",
              "        <path d=\"M19 3H5c-1.1 0-2 .9-2 2v14c0 1.1.9 2 2 2h14c1.1 0 2-.9 2-2V5c0-1.1-.9-2-2-2zM9 17H7v-7h2v7zm4 0h-2V7h2v10zm4 0h-2v-4h2v4z\"/>\n",
              "    </g>\n",
              "</svg>\n",
              "  </button>\n",
              "\n",
              "<style>\n",
              "  .colab-df-quickchart {\n",
              "      --bg-color: #E8F0FE;\n",
              "      --fill-color: #1967D2;\n",
              "      --hover-bg-color: #E2EBFA;\n",
              "      --hover-fill-color: #174EA6;\n",
              "      --disabled-fill-color: #AAA;\n",
              "      --disabled-bg-color: #DDD;\n",
              "  }\n",
              "\n",
              "  [theme=dark] .colab-df-quickchart {\n",
              "      --bg-color: #3B4455;\n",
              "      --fill-color: #D2E3FC;\n",
              "      --hover-bg-color: #434B5C;\n",
              "      --hover-fill-color: #FFFFFF;\n",
              "      --disabled-bg-color: #3B4455;\n",
              "      --disabled-fill-color: #666;\n",
              "  }\n",
              "\n",
              "  .colab-df-quickchart {\n",
              "    background-color: var(--bg-color);\n",
              "    border: none;\n",
              "    border-radius: 50%;\n",
              "    cursor: pointer;\n",
              "    display: none;\n",
              "    fill: var(--fill-color);\n",
              "    height: 32px;\n",
              "    padding: 0;\n",
              "    width: 32px;\n",
              "  }\n",
              "\n",
              "  .colab-df-quickchart:hover {\n",
              "    background-color: var(--hover-bg-color);\n",
              "    box-shadow: 0 1px 2px rgba(60, 64, 67, 0.3), 0 1px 3px 1px rgba(60, 64, 67, 0.15);\n",
              "    fill: var(--button-hover-fill-color);\n",
              "  }\n",
              "\n",
              "  .colab-df-quickchart-complete:disabled,\n",
              "  .colab-df-quickchart-complete:disabled:hover {\n",
              "    background-color: var(--disabled-bg-color);\n",
              "    fill: var(--disabled-fill-color);\n",
              "    box-shadow: none;\n",
              "  }\n",
              "\n",
              "  .colab-df-spinner {\n",
              "    border: 2px solid var(--fill-color);\n",
              "    border-color: transparent;\n",
              "    border-bottom-color: var(--fill-color);\n",
              "    animation:\n",
              "      spin 1s steps(1) infinite;\n",
              "  }\n",
              "\n",
              "  @keyframes spin {\n",
              "    0% {\n",
              "      border-color: transparent;\n",
              "      border-bottom-color: var(--fill-color);\n",
              "      border-left-color: var(--fill-color);\n",
              "    }\n",
              "    20% {\n",
              "      border-color: transparent;\n",
              "      border-left-color: var(--fill-color);\n",
              "      border-top-color: var(--fill-color);\n",
              "    }\n",
              "    30% {\n",
              "      border-color: transparent;\n",
              "      border-left-color: var(--fill-color);\n",
              "      border-top-color: var(--fill-color);\n",
              "      border-right-color: var(--fill-color);\n",
              "    }\n",
              "    40% {\n",
              "      border-color: transparent;\n",
              "      border-right-color: var(--fill-color);\n",
              "      border-top-color: var(--fill-color);\n",
              "    }\n",
              "    60% {\n",
              "      border-color: transparent;\n",
              "      border-right-color: var(--fill-color);\n",
              "    }\n",
              "    80% {\n",
              "      border-color: transparent;\n",
              "      border-right-color: var(--fill-color);\n",
              "      border-bottom-color: var(--fill-color);\n",
              "    }\n",
              "    90% {\n",
              "      border-color: transparent;\n",
              "      border-bottom-color: var(--fill-color);\n",
              "    }\n",
              "  }\n",
              "</style>\n",
              "\n",
              "  <script>\n",
              "    async function quickchart(key) {\n",
              "      const quickchartButtonEl =\n",
              "        document.querySelector('#' + key + ' button');\n",
              "      quickchartButtonEl.disabled = true;  // To prevent multiple clicks.\n",
              "      quickchartButtonEl.classList.add('colab-df-spinner');\n",
              "      try {\n",
              "        const charts = await google.colab.kernel.invokeFunction(\n",
              "            'suggestCharts', [key], {});\n",
              "      } catch (error) {\n",
              "        console.error('Error during call to suggestCharts:', error);\n",
              "      }\n",
              "      quickchartButtonEl.classList.remove('colab-df-spinner');\n",
              "      quickchartButtonEl.classList.add('colab-df-quickchart-complete');\n",
              "    }\n",
              "    (() => {\n",
              "      let quickchartButtonEl =\n",
              "        document.querySelector('#df-ae2f364e-7ae4-4fc1-a963-f2bfc097f578 button');\n",
              "      quickchartButtonEl.style.display =\n",
              "        google.colab.kernel.accessAllowed ? 'block' : 'none';\n",
              "    })();\n",
              "  </script>\n",
              "</div>\n",
              "\n",
              "    </div>\n",
              "  </div>\n"
            ]
          },
          "metadata": {},
          "execution_count": 20
        }
      ],
      "source": [
        "texts = pd.read_csv(\"spam.csv\",encoding=\"ISO-8859-1\" )\n",
        "texts.head()"
      ]
    },
    {
      "cell_type": "markdown",
      "id": "10adf54c",
      "metadata": {
        "id": "10adf54c"
      },
      "source": [
        "### Labelling the Columns"
      ]
    },
    {
      "cell_type": "code",
      "source": [
        "# Assuming you have a DataFrame named 'texts'\n",
        "texts.drop(texts.columns[2:5], axis=1, inplace=True)\n",
        "texts.head()\n",
        "\n",
        "texts.rename(columns={'v1': 'Labels', 'v2': 'Messages'}, inplace=True)\n",
        "texts\n"
      ],
      "metadata": {
        "colab": {
          "base_uri": "https://localhost:8080/",
          "height": 423
        },
        "id": "h38YEi807Xpf",
        "outputId": "05c6cafd-e5c5-4e37-8fc0-c2996f2760aa"
      },
      "id": "h38YEi807Xpf",
      "execution_count": 22,
      "outputs": [
        {
          "output_type": "execute_result",
          "data": {
            "text/plain": [
              "     Labels                                           Messages\n",
              "0       ham  Go until jurong point, crazy.. Available only ...\n",
              "1       ham                      Ok lar... Joking wif u oni...\n",
              "2      spam  Free entry in 2 a wkly comp to win FA Cup fina...\n",
              "3       ham  U dun say so early hor... U c already then say...\n",
              "4       ham  Nah I don't think he goes to usf, he lives aro...\n",
              "...     ...                                                ...\n",
              "5567   spam  This is the 2nd time we have tried 2 contact u...\n",
              "5568    ham              Will Ì_ b going to esplanade fr home?\n",
              "5569    ham  Pity, * was in mood for that. So...any other s...\n",
              "5570    ham  The guy did some bitching but I acted like i'd...\n",
              "5571    ham                         Rofl. Its true to its name\n",
              "\n",
              "[5572 rows x 2 columns]"
            ],
            "text/html": [
              "\n",
              "  <div id=\"df-dddb1429-1962-4e16-9b35-b6a5726d88a3\" class=\"colab-df-container\">\n",
              "    <div>\n",
              "<style scoped>\n",
              "    .dataframe tbody tr th:only-of-type {\n",
              "        vertical-align: middle;\n",
              "    }\n",
              "\n",
              "    .dataframe tbody tr th {\n",
              "        vertical-align: top;\n",
              "    }\n",
              "\n",
              "    .dataframe thead th {\n",
              "        text-align: right;\n",
              "    }\n",
              "</style>\n",
              "<table border=\"1\" class=\"dataframe\">\n",
              "  <thead>\n",
              "    <tr style=\"text-align: right;\">\n",
              "      <th></th>\n",
              "      <th>Labels</th>\n",
              "      <th>Messages</th>\n",
              "    </tr>\n",
              "  </thead>\n",
              "  <tbody>\n",
              "    <tr>\n",
              "      <th>0</th>\n",
              "      <td>ham</td>\n",
              "      <td>Go until jurong point, crazy.. Available only ...</td>\n",
              "    </tr>\n",
              "    <tr>\n",
              "      <th>1</th>\n",
              "      <td>ham</td>\n",
              "      <td>Ok lar... Joking wif u oni...</td>\n",
              "    </tr>\n",
              "    <tr>\n",
              "      <th>2</th>\n",
              "      <td>spam</td>\n",
              "      <td>Free entry in 2 a wkly comp to win FA Cup fina...</td>\n",
              "    </tr>\n",
              "    <tr>\n",
              "      <th>3</th>\n",
              "      <td>ham</td>\n",
              "      <td>U dun say so early hor... U c already then say...</td>\n",
              "    </tr>\n",
              "    <tr>\n",
              "      <th>4</th>\n",
              "      <td>ham</td>\n",
              "      <td>Nah I don't think he goes to usf, he lives aro...</td>\n",
              "    </tr>\n",
              "    <tr>\n",
              "      <th>...</th>\n",
              "      <td>...</td>\n",
              "      <td>...</td>\n",
              "    </tr>\n",
              "    <tr>\n",
              "      <th>5567</th>\n",
              "      <td>spam</td>\n",
              "      <td>This is the 2nd time we have tried 2 contact u...</td>\n",
              "    </tr>\n",
              "    <tr>\n",
              "      <th>5568</th>\n",
              "      <td>ham</td>\n",
              "      <td>Will Ì_ b going to esplanade fr home?</td>\n",
              "    </tr>\n",
              "    <tr>\n",
              "      <th>5569</th>\n",
              "      <td>ham</td>\n",
              "      <td>Pity, * was in mood for that. So...any other s...</td>\n",
              "    </tr>\n",
              "    <tr>\n",
              "      <th>5570</th>\n",
              "      <td>ham</td>\n",
              "      <td>The guy did some bitching but I acted like i'd...</td>\n",
              "    </tr>\n",
              "    <tr>\n",
              "      <th>5571</th>\n",
              "      <td>ham</td>\n",
              "      <td>Rofl. Its true to its name</td>\n",
              "    </tr>\n",
              "  </tbody>\n",
              "</table>\n",
              "<p>5572 rows × 2 columns</p>\n",
              "</div>\n",
              "    <div class=\"colab-df-buttons\">\n",
              "\n",
              "  <div class=\"colab-df-container\">\n",
              "    <button class=\"colab-df-convert\" onclick=\"convertToInteractive('df-dddb1429-1962-4e16-9b35-b6a5726d88a3')\"\n",
              "            title=\"Convert this dataframe to an interactive table.\"\n",
              "            style=\"display:none;\">\n",
              "\n",
              "  <svg xmlns=\"http://www.w3.org/2000/svg\" height=\"24px\" viewBox=\"0 -960 960 960\">\n",
              "    <path d=\"M120-120v-720h720v720H120Zm60-500h600v-160H180v160Zm220 220h160v-160H400v160Zm0 220h160v-160H400v160ZM180-400h160v-160H180v160Zm440 0h160v-160H620v160ZM180-180h160v-160H180v160Zm440 0h160v-160H620v160Z\"/>\n",
              "  </svg>\n",
              "    </button>\n",
              "\n",
              "  <style>\n",
              "    .colab-df-container {\n",
              "      display:flex;\n",
              "      gap: 12px;\n",
              "    }\n",
              "\n",
              "    .colab-df-convert {\n",
              "      background-color: #E8F0FE;\n",
              "      border: none;\n",
              "      border-radius: 50%;\n",
              "      cursor: pointer;\n",
              "      display: none;\n",
              "      fill: #1967D2;\n",
              "      height: 32px;\n",
              "      padding: 0 0 0 0;\n",
              "      width: 32px;\n",
              "    }\n",
              "\n",
              "    .colab-df-convert:hover {\n",
              "      background-color: #E2EBFA;\n",
              "      box-shadow: 0px 1px 2px rgba(60, 64, 67, 0.3), 0px 1px 3px 1px rgba(60, 64, 67, 0.15);\n",
              "      fill: #174EA6;\n",
              "    }\n",
              "\n",
              "    .colab-df-buttons div {\n",
              "      margin-bottom: 4px;\n",
              "    }\n",
              "\n",
              "    [theme=dark] .colab-df-convert {\n",
              "      background-color: #3B4455;\n",
              "      fill: #D2E3FC;\n",
              "    }\n",
              "\n",
              "    [theme=dark] .colab-df-convert:hover {\n",
              "      background-color: #434B5C;\n",
              "      box-shadow: 0px 1px 3px 1px rgba(0, 0, 0, 0.15);\n",
              "      filter: drop-shadow(0px 1px 2px rgba(0, 0, 0, 0.3));\n",
              "      fill: #FFFFFF;\n",
              "    }\n",
              "  </style>\n",
              "\n",
              "    <script>\n",
              "      const buttonEl =\n",
              "        document.querySelector('#df-dddb1429-1962-4e16-9b35-b6a5726d88a3 button.colab-df-convert');\n",
              "      buttonEl.style.display =\n",
              "        google.colab.kernel.accessAllowed ? 'block' : 'none';\n",
              "\n",
              "      async function convertToInteractive(key) {\n",
              "        const element = document.querySelector('#df-dddb1429-1962-4e16-9b35-b6a5726d88a3');\n",
              "        const dataTable =\n",
              "          await google.colab.kernel.invokeFunction('convertToInteractive',\n",
              "                                                    [key], {});\n",
              "        if (!dataTable) return;\n",
              "\n",
              "        const docLinkHtml = 'Like what you see? Visit the ' +\n",
              "          '<a target=\"_blank\" href=https://colab.research.google.com/notebooks/data_table.ipynb>data table notebook</a>'\n",
              "          + ' to learn more about interactive tables.';\n",
              "        element.innerHTML = '';\n",
              "        dataTable['output_type'] = 'display_data';\n",
              "        await google.colab.output.renderOutput(dataTable, element);\n",
              "        const docLink = document.createElement('div');\n",
              "        docLink.innerHTML = docLinkHtml;\n",
              "        element.appendChild(docLink);\n",
              "      }\n",
              "    </script>\n",
              "  </div>\n",
              "\n",
              "\n",
              "<div id=\"df-c9d92ae9-536f-41ad-975f-7fc92d778de2\">\n",
              "  <button class=\"colab-df-quickchart\" onclick=\"quickchart('df-c9d92ae9-536f-41ad-975f-7fc92d778de2')\"\n",
              "            title=\"Suggest charts\"\n",
              "            style=\"display:none;\">\n",
              "\n",
              "<svg xmlns=\"http://www.w3.org/2000/svg\" height=\"24px\"viewBox=\"0 0 24 24\"\n",
              "     width=\"24px\">\n",
              "    <g>\n",
              "        <path d=\"M19 3H5c-1.1 0-2 .9-2 2v14c0 1.1.9 2 2 2h14c1.1 0 2-.9 2-2V5c0-1.1-.9-2-2-2zM9 17H7v-7h2v7zm4 0h-2V7h2v10zm4 0h-2v-4h2v4z\"/>\n",
              "    </g>\n",
              "</svg>\n",
              "  </button>\n",
              "\n",
              "<style>\n",
              "  .colab-df-quickchart {\n",
              "      --bg-color: #E8F0FE;\n",
              "      --fill-color: #1967D2;\n",
              "      --hover-bg-color: #E2EBFA;\n",
              "      --hover-fill-color: #174EA6;\n",
              "      --disabled-fill-color: #AAA;\n",
              "      --disabled-bg-color: #DDD;\n",
              "  }\n",
              "\n",
              "  [theme=dark] .colab-df-quickchart {\n",
              "      --bg-color: #3B4455;\n",
              "      --fill-color: #D2E3FC;\n",
              "      --hover-bg-color: #434B5C;\n",
              "      --hover-fill-color: #FFFFFF;\n",
              "      --disabled-bg-color: #3B4455;\n",
              "      --disabled-fill-color: #666;\n",
              "  }\n",
              "\n",
              "  .colab-df-quickchart {\n",
              "    background-color: var(--bg-color);\n",
              "    border: none;\n",
              "    border-radius: 50%;\n",
              "    cursor: pointer;\n",
              "    display: none;\n",
              "    fill: var(--fill-color);\n",
              "    height: 32px;\n",
              "    padding: 0;\n",
              "    width: 32px;\n",
              "  }\n",
              "\n",
              "  .colab-df-quickchart:hover {\n",
              "    background-color: var(--hover-bg-color);\n",
              "    box-shadow: 0 1px 2px rgba(60, 64, 67, 0.3), 0 1px 3px 1px rgba(60, 64, 67, 0.15);\n",
              "    fill: var(--button-hover-fill-color);\n",
              "  }\n",
              "\n",
              "  .colab-df-quickchart-complete:disabled,\n",
              "  .colab-df-quickchart-complete:disabled:hover {\n",
              "    background-color: var(--disabled-bg-color);\n",
              "    fill: var(--disabled-fill-color);\n",
              "    box-shadow: none;\n",
              "  }\n",
              "\n",
              "  .colab-df-spinner {\n",
              "    border: 2px solid var(--fill-color);\n",
              "    border-color: transparent;\n",
              "    border-bottom-color: var(--fill-color);\n",
              "    animation:\n",
              "      spin 1s steps(1) infinite;\n",
              "  }\n",
              "\n",
              "  @keyframes spin {\n",
              "    0% {\n",
              "      border-color: transparent;\n",
              "      border-bottom-color: var(--fill-color);\n",
              "      border-left-color: var(--fill-color);\n",
              "    }\n",
              "    20% {\n",
              "      border-color: transparent;\n",
              "      border-left-color: var(--fill-color);\n",
              "      border-top-color: var(--fill-color);\n",
              "    }\n",
              "    30% {\n",
              "      border-color: transparent;\n",
              "      border-left-color: var(--fill-color);\n",
              "      border-top-color: var(--fill-color);\n",
              "      border-right-color: var(--fill-color);\n",
              "    }\n",
              "    40% {\n",
              "      border-color: transparent;\n",
              "      border-right-color: var(--fill-color);\n",
              "      border-top-color: var(--fill-color);\n",
              "    }\n",
              "    60% {\n",
              "      border-color: transparent;\n",
              "      border-right-color: var(--fill-color);\n",
              "    }\n",
              "    80% {\n",
              "      border-color: transparent;\n",
              "      border-right-color: var(--fill-color);\n",
              "      border-bottom-color: var(--fill-color);\n",
              "    }\n",
              "    90% {\n",
              "      border-color: transparent;\n",
              "      border-bottom-color: var(--fill-color);\n",
              "    }\n",
              "  }\n",
              "</style>\n",
              "\n",
              "  <script>\n",
              "    async function quickchart(key) {\n",
              "      const quickchartButtonEl =\n",
              "        document.querySelector('#' + key + ' button');\n",
              "      quickchartButtonEl.disabled = true;  // To prevent multiple clicks.\n",
              "      quickchartButtonEl.classList.add('colab-df-spinner');\n",
              "      try {\n",
              "        const charts = await google.colab.kernel.invokeFunction(\n",
              "            'suggestCharts', [key], {});\n",
              "      } catch (error) {\n",
              "        console.error('Error during call to suggestCharts:', error);\n",
              "      }\n",
              "      quickchartButtonEl.classList.remove('colab-df-spinner');\n",
              "      quickchartButtonEl.classList.add('colab-df-quickchart-complete');\n",
              "    }\n",
              "    (() => {\n",
              "      let quickchartButtonEl =\n",
              "        document.querySelector('#df-c9d92ae9-536f-41ad-975f-7fc92d778de2 button');\n",
              "      quickchartButtonEl.style.display =\n",
              "        google.colab.kernel.accessAllowed ? 'block' : 'none';\n",
              "    })();\n",
              "  </script>\n",
              "</div>\n",
              "\n",
              "  <div id=\"id_d321d076-33e5-40b2-bd25-4ab8a5508808\">\n",
              "    <style>\n",
              "      .colab-df-generate {\n",
              "        background-color: #E8F0FE;\n",
              "        border: none;\n",
              "        border-radius: 50%;\n",
              "        cursor: pointer;\n",
              "        display: none;\n",
              "        fill: #1967D2;\n",
              "        height: 32px;\n",
              "        padding: 0 0 0 0;\n",
              "        width: 32px;\n",
              "      }\n",
              "\n",
              "      .colab-df-generate:hover {\n",
              "        background-color: #E2EBFA;\n",
              "        box-shadow: 0px 1px 2px rgba(60, 64, 67, 0.3), 0px 1px 3px 1px rgba(60, 64, 67, 0.15);\n",
              "        fill: #174EA6;\n",
              "      }\n",
              "\n",
              "      [theme=dark] .colab-df-generate {\n",
              "        background-color: #3B4455;\n",
              "        fill: #D2E3FC;\n",
              "      }\n",
              "\n",
              "      [theme=dark] .colab-df-generate:hover {\n",
              "        background-color: #434B5C;\n",
              "        box-shadow: 0px 1px 3px 1px rgba(0, 0, 0, 0.15);\n",
              "        filter: drop-shadow(0px 1px 2px rgba(0, 0, 0, 0.3));\n",
              "        fill: #FFFFFF;\n",
              "      }\n",
              "    </style>\n",
              "    <button class=\"colab-df-generate\" onclick=\"generateWithVariable('texts')\"\n",
              "            title=\"Generate code using this dataframe.\"\n",
              "            style=\"display:none;\">\n",
              "\n",
              "  <svg xmlns=\"http://www.w3.org/2000/svg\" height=\"24px\"viewBox=\"0 0 24 24\"\n",
              "       width=\"24px\">\n",
              "    <path d=\"M7,19H8.4L18.45,9,17,7.55,7,17.6ZM5,21V16.75L18.45,3.32a2,2,0,0,1,2.83,0l1.4,1.43a1.91,1.91,0,0,1,.58,1.4,1.91,1.91,0,0,1-.58,1.4L9.25,21ZM18.45,9,17,7.55Zm-12,3A5.31,5.31,0,0,0,4.9,8.1,5.31,5.31,0,0,0,1,6.5,5.31,5.31,0,0,0,4.9,4.9,5.31,5.31,0,0,0,6.5,1,5.31,5.31,0,0,0,8.1,4.9,5.31,5.31,0,0,0,12,6.5,5.46,5.46,0,0,0,6.5,12Z\"/>\n",
              "  </svg>\n",
              "    </button>\n",
              "    <script>\n",
              "      (() => {\n",
              "      const buttonEl =\n",
              "        document.querySelector('#id_d321d076-33e5-40b2-bd25-4ab8a5508808 button.colab-df-generate');\n",
              "      buttonEl.style.display =\n",
              "        google.colab.kernel.accessAllowed ? 'block' : 'none';\n",
              "\n",
              "      buttonEl.onclick = () => {\n",
              "        google.colab.notebook.generateWithVariable('texts');\n",
              "      }\n",
              "      })();\n",
              "    </script>\n",
              "  </div>\n",
              "\n",
              "    </div>\n",
              "  </div>\n"
            ]
          },
          "metadata": {},
          "execution_count": 22
        }
      ]
    },
    {
      "cell_type": "code",
      "execution_count": 22,
      "id": "2e58276e",
      "metadata": {
        "id": "2e58276e"
      },
      "outputs": [],
      "source": []
    },
    {
      "cell_type": "code",
      "execution_count": 23,
      "id": "b14b4a13",
      "metadata": {
        "id": "b14b4a13"
      },
      "outputs": [],
      "source": [
        "l = WordNetLemmatizer()"
      ]
    },
    {
      "cell_type": "code",
      "execution_count": 24,
      "id": "ab843181",
      "metadata": {
        "colab": {
          "base_uri": "https://localhost:8080/"
        },
        "id": "ab843181",
        "outputId": "8b2ff6cf-6f2b-4261-fa8c-8e653e1f7e70"
      },
      "outputs": [
        {
          "output_type": "stream",
          "name": "stderr",
          "text": [
            "[nltk_data] Downloading package stopwords to /root/nltk_data...\n",
            "[nltk_data]   Package stopwords is already up-to-date!\n"
          ]
        }
      ],
      "source": [
        "import re\n",
        "import nltk\n",
        "nltk.download('stopwords')\n",
        "from nltk.corpus import stopwords\n",
        "from nltk.stem.porter import PorterStemmer\n",
        "ps=PorterStemmer()"
      ]
    },
    {
      "cell_type": "markdown",
      "id": "d8de5b38",
      "metadata": {
        "id": "d8de5b38"
      },
      "source": [
        "### Lemmatizing and removing Stop-words"
      ]
    },
    {
      "cell_type": "code",
      "execution_count": 26,
      "id": "adaa60e0",
      "metadata": {
        "id": "adaa60e0"
      },
      "outputs": [],
      "source": [
        "corpus = []\n",
        "\n",
        "for i in range(0, len(texts)):\n",
        "    review = re.sub('[^a-zA-Z]', ' ', texts['Messages'][i])\n",
        "    review = review.lower()\n",
        "    review = review.split()\n",
        "    review = [lemma(word) for word in review if not word in stopwords.words('english')]\n",
        "    review = ' '.join(review)\n",
        "    corpus.append(review)\n"
      ]
    },
    {
      "cell_type": "markdown",
      "id": "a6c7ef93",
      "metadata": {
        "id": "a6c7ef93"
      },
      "source": [
        "### Bag of words using count vectorizer"
      ]
    },
    {
      "cell_type": "code",
      "execution_count": 27,
      "id": "c19b21a7",
      "metadata": {
        "id": "c19b21a7"
      },
      "outputs": [],
      "source": [
        "from sklearn.feature_extraction.text import CountVectorizer\n",
        "cv= CountVectorizer(max_features=5000)\n",
        "X=cv.fit_transform(corpus).toarray()"
      ]
    },
    {
      "cell_type": "code",
      "execution_count": 28,
      "id": "72d72675",
      "metadata": {
        "colab": {
          "base_uri": "https://localhost:8080/"
        },
        "id": "72d72675",
        "outputId": "f6dfd7ce-42f6-421e-fb41-bdc0da21121f"
      },
      "outputs": [
        {
          "output_type": "execute_result",
          "data": {
            "text/plain": [
              "array([[0, 0, 0, ..., 0, 0, 0],\n",
              "       [0, 0, 0, ..., 0, 0, 0],\n",
              "       [0, 0, 0, ..., 0, 0, 0],\n",
              "       ...,\n",
              "       [0, 0, 0, ..., 0, 0, 0],\n",
              "       [0, 0, 0, ..., 0, 0, 0],\n",
              "       [0, 0, 0, ..., 0, 0, 0]])"
            ]
          },
          "metadata": {},
          "execution_count": 28
        }
      ],
      "source": [
        "X"
      ]
    },
    {
      "cell_type": "code",
      "execution_count": 29,
      "id": "1ae707e8",
      "metadata": {
        "id": "1ae707e8"
      },
      "outputs": [],
      "source": [
        "from sklearn.feature_extraction.text import TfidfVectorizer\n",
        "cv= TfidfVectorizer(max_features=5000)\n",
        "X=cv.fit_transform(corpus).toarray()"
      ]
    },
    {
      "cell_type": "code",
      "execution_count": 30,
      "id": "7cba0322",
      "metadata": {
        "id": "7cba0322"
      },
      "outputs": [],
      "source": [
        "from sklearn import preprocessing"
      ]
    },
    {
      "cell_type": "markdown",
      "id": "bfa138ac",
      "metadata": {
        "id": "bfa138ac"
      },
      "source": [
        "### Label-Encoding of the variables"
      ]
    },
    {
      "cell_type": "code",
      "execution_count": 31,
      "id": "f3f4005b",
      "metadata": {
        "id": "f3f4005b"
      },
      "outputs": [],
      "source": [
        "label_encoder = preprocessing.LabelEncoder()\n",
        "texts['Labels']= label_encoder.fit_transform(texts['Labels'])"
      ]
    },
    {
      "cell_type": "code",
      "execution_count": 32,
      "id": "9b21f46e",
      "metadata": {
        "colab": {
          "base_uri": "https://localhost:8080/"
        },
        "id": "9b21f46e",
        "outputId": "bcd12bf7-a05b-4261-92b0-e3d2d7ab8230"
      },
      "outputs": [
        {
          "output_type": "execute_result",
          "data": {
            "text/plain": [
              "0    0\n",
              "1    0\n",
              "2    1\n",
              "3    0\n",
              "4    0\n",
              "Name: Labels, dtype: int64"
            ]
          },
          "metadata": {},
          "execution_count": 32
        }
      ],
      "source": [
        "\n",
        "y=texts['Labels']\n",
        "y.head()"
      ]
    },
    {
      "cell_type": "code",
      "execution_count": 33,
      "id": "6c50d9e1",
      "metadata": {
        "colab": {
          "base_uri": "https://localhost:8080/",
          "height": 442
        },
        "id": "6c50d9e1",
        "outputId": "17f11220-e696-44e4-f889-e4576b083f3c"
      },
      "outputs": [
        {
          "output_type": "execute_result",
          "data": {
            "text/plain": [
              "<Axes: >"
            ]
          },
          "metadata": {},
          "execution_count": 33
        },
        {
          "output_type": "display_data",
          "data": {
            "text/plain": [
              "<Figure size 640x480 with 1 Axes>"
            ],
            "image/png": "[encoded data removed]"
          },
          "metadata": {}
        }
      ],
      "source": [
        "\n",
        "\n",
        "import matplotlib.pyplot as plt\n",
        "counts = y.value_counts()\n",
        "\n",
        "counts.plot(kind='bar')"
      ]
    },
    {
      "cell_type": "markdown",
      "id": "31958e21",
      "metadata": {
        "id": "31958e21"
      },
      "source": [
        "### Data is imbalanced hence applying SMOTE to oversample the data"
      ]
    },
    {
      "cell_type": "code",
      "execution_count": 34,
      "id": "14dbd096",
      "metadata": {
        "colab": {
          "base_uri": "https://localhost:8080/"
        },
        "id": "14dbd096",
        "outputId": "c49502d6-efdc-41a8-adfb-2b1ec390dad3"
      },
      "outputs": [
        {
          "output_type": "stream",
          "name": "stdout",
          "text": [
            "Original dataset shape:  (5572, 5000) (5572,)\n",
            "Resampled dataset shape:  (9650, 5000) (9650,)\n"
          ]
        }
      ],
      "source": [
        "from imblearn.over_sampling import SMOTE\n",
        "import pandas as pd\n",
        "\n",
        "# Apply SMOTE to oversample the minority class\n",
        "smote = SMOTE()\n",
        "X_resampled, y_resampled = smote.fit_resample(X, y)\n",
        "\n",
        "# Print the new shape of the dataset after oversampling\n",
        "print(\"Original dataset shape: \", X.shape, y.shape)\n",
        "print(\"Resampled dataset shape: \", X_resampled.shape, y_resampled.shape)"
      ]
    },
    {
      "cell_type": "code",
      "execution_count": 35,
      "id": "3a4beb8e",
      "metadata": {
        "id": "3a4beb8e"
      },
      "outputs": [],
      "source": [
        "from sklearn.model_selection import train_test_split\n",
        "X_train, X_test, y_train, y_test = train_test_split(X_resampled, y_resampled, test_size=0.30, random_state=42)"
      ]
    },
    {
      "cell_type": "markdown",
      "id": "7f5add23",
      "metadata": {
        "id": "7f5add23"
      },
      "source": [
        "### Fitting Naive Bayes Model"
      ]
    },
    {
      "cell_type": "code",
      "execution_count": 36,
      "id": "b26290c5",
      "metadata": {
        "id": "b26290c5"
      },
      "outputs": [],
      "source": [
        "from sklearn.naive_bayes import MultinomialNB\n",
        "model=MultinomialNB().fit(X_train,y_train)\n",
        "y_pred=model.predict(X_test)"
      ]
    },
    {
      "cell_type": "code",
      "execution_count": 37,
      "id": "f668bc77",
      "metadata": {
        "id": "f668bc77"
      },
      "outputs": [],
      "source": [
        "from sklearn.metrics import confusion_matrix\n",
        "matrix=confusion_matrix(y_test,y_pred)"
      ]
    },
    {
      "cell_type": "code",
      "execution_count": 38,
      "id": "a2670fc9",
      "metadata": {
        "colab": {
          "base_uri": "https://localhost:8080/"
        },
        "id": "a2670fc9",
        "outputId": "0e15c393-fc67-4e8a-c1be-556a175ca1a6"
      },
      "outputs": [
        {
          "output_type": "execute_result",
          "data": {
            "text/plain": [
              "array([[1405,   49],\n",
              "       [  16, 1425]])"
            ]
          },
          "metadata": {},
          "execution_count": 38
        }
      ],
      "source": [
        "matrix"
      ]
    },
    {
      "cell_type": "code",
      "execution_count": 39,
      "id": "ed7cbb52",
      "metadata": {
        "colab": {
          "base_uri": "https://localhost:8080/"
        },
        "id": "ed7cbb52",
        "outputId": "5ed448fa-ccc7-4f7d-cf7a-f81cf72dd3dc"
      },
      "outputs": [
        {
          "output_type": "stream",
          "name": "stdout",
          "text": [
            "F1 score:  0.9777015437392796\n"
          ]
        }
      ],
      "source": [
        "from sklearn.metrics import f1_score\n",
        "f1 = f1_score(y_test, y_pred)\n",
        "print(\"F1 score: \", f1)"
      ]
    },
    {
      "cell_type": "code",
      "execution_count": 39,
      "id": "93b93651",
      "metadata": {
        "id": "93b93651"
      },
      "outputs": [],
      "source": []
    },
    {
      "cell_type": "code",
      "execution_count": 39,
      "id": "50b772fa",
      "metadata": {
        "id": "50b772fa"
      },
      "outputs": [],
      "source": []
    }
  ],
  "metadata": {
    "kernelspec": {
      "display_name": "Python 3 (ipykernel)",
      "language": "python",
      "name": "python3"
    },
    "language_info": {
      "codemirror_mode": {
        "name": "ipython",
        "version": 3
      },
      "file_extension": ".py",
      "mimetype": "text/x-python",
      "name": "python",
      "nbconvert_exporter": "python",
      "pygments_lexer": "ipython3",
      "version": "3.9.7"
    },
    "colab": {
      "provenance": []
    }
  },
  "nbformat": 4,
  "nbformat_minor": 5
}